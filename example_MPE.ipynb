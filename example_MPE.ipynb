{
 "cells": [
  {
   "cell_type": "code",
   "execution_count": 0,
   "metadata": {
    "colab": {},
    "colab_type": "code",
    "id": "Tv1FHzmNiYCa"
   },
   "outputs": [],
   "source": [
    "from sklearn.cluster import KMeans\n",
    "from sklearn.impute import SimpleImputer\n",
    "from collections import Counter\n",
    "\n",
    "import numpy as np\n",
    "from matplotlib import pyplot as plt\n",
    "from scipy.sparse import coo_matrix\n",
    "\n",
    "from sklearn.cluster import AgglomerativeClustering\n",
    "from KernelTreelets import kernel_treelets_SVC"
   ]
  },
  {
   "cell_type": "code",
   "execution_count": 0,
   "metadata": {
    "colab": {},
    "colab_type": "code",
    "id": "JEeh1SZyi6bj"
   },
   "outputs": [],
   "source": [
    "dataset = np.genfromtxt(r\"MPE.csv\", delimiter=',', skip_header=1)\n",
    "dataset = dataset[:, ~np.all(np.isnan(dataset), axis=0)]\n",
    "dataset = (dataset - np.nanmean(dataset, axis=0)) / np.nanstd(dataset, axis=0)\n",
    "imp_dataset = SimpleImputer().fit_transform(dataset)\n",
    "labels = np.genfromtxt(r\"Data_Cortex_Nuclear.csv\", delimiter=',', skip_header=1, dtype=str)[:, -1]\n",
    "labelmat = labels[:,None] == labels\n",
    "labelgraph = []\n",
    "for i in range(len(labels)):\n",
    "    for j in range(i):\n",
    "        if labels[i] == labels[j]:\n",
    "            labelgraph.append((j, i))"
   ]
  },
  {
   "cell_type": "code",
   "execution_count": 0,
   "metadata": {
    "colab": {
     "base_uri": "https://localhost:8080/",
     "height": 53
    },
    "colab_type": "code",
    "id": "AqU8uyGyoi18",
    "outputId": "38ba9c59-71f7-4f59-f1de-2b8b18bcda25"
   },
   "outputs": [
    {
     "name": "stdout",
     "output_type": "stream",
     "text": [
      "|E| = 73035\n",
      "|V| = 1080\n"
     ]
    }
   ],
   "source": [
    "print(\"|E| = {}\".format(len(labelgraph)))\n",
    "print(\"|V| = {}\".format(np.max(labelgraph) + 1))"
   ]
  },
  {
   "cell_type": "code",
   "execution_count": 0,
   "metadata": {
    "colab": {},
    "colab_type": "code",
    "id": "gKTgIFLUlO5D"
   },
   "outputs": [],
   "source": [
    "class nan_kernel_rbf:\n",
    "\tdef __init__ (self, sigma=1):\n",
    "\t\tself.gamma = 1 / (2 * sigma * sigma)\n",
    "\n",
    "\tdef __call__ (self, X):\n",
    "\t\ta, b = X.shape\n",
    "\t\tX = np.asarray(X).reshape((a, 1, b))\n",
    "\t\tdiff = np.nanmean((X - X.swapaxes(1, 2)) ** 2, axis=0)\n",
    "\t\treturn np.exp(- diff * diff * self.gamma)\n"
   ]
  },
  {
   "cell_type": "code",
   "execution_count": 0,
   "metadata": {
    "colab": {},
    "colab_type": "code",
    "id": "ma-zeTZllbb7"
   },
   "outputs": [],
   "source": [
    "ktc = kernel_treelets_SVC(nan_kernel_rbf(0.125), number_of_clusters=15, max_sample=2000, verbose=False)\n",
    "ktc.fit(dataset.T)"
   ]
  },
  {
   "cell_type": "code",
   "execution_count": 0,
   "metadata": {
    "colab": {},
    "colab_type": "code",
    "id": "UAXOarCoscrV"
   },
   "outputs": [],
   "source": [
    "ac_ward = AgglomerativeClustering(compute_full_tree=True, linkage='ward').fit(imp_dataset)"
   ]
  },
  {
   "cell_type": "code",
   "execution_count": 0,
   "metadata": {
    "colab": {},
    "colab_type": "code",
    "id": "QUpo9xEBstDt"
   },
   "outputs": [],
   "source": [
    "ac_complete = AgglomerativeClustering(compute_full_tree=True, linkage='complete').fit(imp_dataset)"
   ]
  },
  {
   "cell_type": "code",
   "execution_count": 0,
   "metadata": {
    "colab": {},
    "colab_type": "code",
    "id": "6jvG-kkWstHN"
   },
   "outputs": [],
   "source": [
    "ac_average = AgglomerativeClustering(compute_full_tree=True, linkage='average').fit(imp_dataset)"
   ]
  },
  {
   "cell_type": "code",
   "execution_count": 0,
   "metadata": {
    "colab": {},
    "colab_type": "code",
    "id": "bAaHprw_stMX"
   },
   "outputs": [],
   "source": [
    "ac_single = AgglomerativeClustering(compute_full_tree=True, linkage='single').fit(imp_dataset)"
   ]
  },
  {
   "cell_type": "code",
   "execution_count": 0,
   "metadata": {
    "colab": {},
    "colab_type": "code",
    "id": "HEEbGaevkJai"
   },
   "outputs": [],
   "source": [
    "def confmat(graph, tree):\n",
    "    E = len(graph)\n",
    "    V = np.max(graph) + 1\n",
    "    db = np.zeros(V, dtype=int)\n",
    "    a4 = np.zeros(V, dtype=int)\n",
    "    ufg = {x: np.zeros(V, dtype=bool) for x in range(V)}\n",
    "    for x in range(V):\n",
    "        ufg[x][x] = True\n",
    "    for i in range(V - 1):\n",
    "        p = tree[i][0]\n",
    "        q = tree[i][1]\n",
    "        db[i + 1] = 2 * ufg[p].sum() * ufg[q].sum()\n",
    "        a4[i + 1] = 2 * labelmat[ufg[p]][:, ufg[q]].sum()\n",
    "        ufg[i + V] = np.logical_or(ufg[p], ufg[q])\n",
    "        ufg.pop(p)\n",
    "        ufg.pop(q)\n",
    "\n",
    "    a4 = np.cumsum(a4)\n",
    "    db = np.cumsum(db)\n",
    "    a2 = db - a4\n",
    "    # a1 = V * V - 2 * E - a2 - V \n",
    "    # a3 = 2 * E - a4\n",
    "    tp = a4 / 2 / E\n",
    "    fp = a2 / (V * V - 2 * E - V)\n",
    "    return (fp, tp)"
   ]
  },
  {
   "cell_type": "code",
   "execution_count": 17,
   "metadata": {
    "colab": {
     "base_uri": "https://localhost:8080/",
     "height": 295
    },
    "colab_type": "code",
    "id": "b0wYix4zlpL7",
    "outputId": "6d50e26a-897e-447f-fc24-ff53fb532e2c"
   },
   "outputs": [
    {
     "data": {
      "image/png": "[encoded data removed]",
      "text/plain": [
       "<Figure size 432x288 with 1 Axes>"
      ]
     },
     "metadata": {
      "tags": []
     },
     "output_type": "display_data"
    }
   ],
   "source": [
    "acs = [ktc, ac_ward, ac_complete, ac_average, ac_single]\n",
    "plt.xlabel(\"False Positive Rate\")\n",
    "plt.ylabel(\"True Positive Rate\")\n",
    "plt.title(\"ROC Curve of Clustering on MPE Data Set\")\n",
    "pairs = [confmat(labelgraph, x.children_) for x in acs]\n",
    "methods = [plt.plot(x[0], x[1]) for x in pairs]\n",
    "names = [\"KT\", \"Ward\", \"Complete\", \"Average\", \"Single\"]\n",
    "auc = [1 - np.trapz(x[0], x[1]) for x in pairs]\n",
    "plt.legend([i[0] for i in methods], [names[i] + \": AUC = {:.3f}\".format(auc[i]) for i in range(len(methods))])\n",
    "plt.savefig('dcn.jpg', dpi=1000)\n",
    "plt.show()"
   ]
  }
 ],
 "metadata": {
  "colab": {
   "collapsed_sections": [],
   "name": "dcn_test.ipynb",
   "provenance": [],
   "version": "0.3.2"
  },
  "kernelspec": {
   "display_name": "Python 3",
   "language": "python",
   "name": "python3"
  },
  "language_info": {
   "codemirror_mode": {
    "name": "ipython",
    "version": 3
   },
   "file_extension": ".py",
   "mimetype": "text/x-python",
   "name": "python",
   "nbconvert_exporter": "python",
   "pygments_lexer": "ipython3",
   "version": "3.6.5"
  }
 },
 "nbformat": 4,
 "nbformat_minor": 1
}
